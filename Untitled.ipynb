{
 "cells": [
  {
   "cell_type": "code",
   "execution_count": 4,
   "id": "15205fac-7885-4068-8026-3cdae8c67fed",
   "metadata": {},
   "outputs": [],
   "source": [
    "import pandas as pd\n",
    "import numpy as np\n",
    "np.random.seed(42)\n",
    "import tensorflow as tf\n",
    "tf.random.set_seed(42)\n",
    "\n",
    "from keras import regularizers\n",
    "from keras import backend as K\n",
    "from keras.models import Model, load_model\n",
    "from keras.layers import Input, Dense\n",
    "#from keras.optimizers import RMSprop =>\n",
    "from tensorflow.keras.optimizers import RMSprop\n",
    "from keras.callbacks import ModelCheckpoint, TensorBoard\n",
    "\n",
    "import argparse\n",
    "import numpy as np\n",
    "import matplotlib.pyplot as plt\n",
    "import sys\n",
    "from scipy.sparse import vstack, csc_matrix\n",
    "from sklearn.model_selection import train_test_split\n",
    "from sklearn.metrics import auc, roc_curve, precision_recall_curve, average_precision_score, roc_auc_score\n",
    "from sklearn import preprocessing\n",
    "from sklearn.datasets import load_svmlight_file\n",
    "from sklearn.preprocessing import LabelEncoder\n",
    "import time\n",
    "\n",
    "MAX_INT = np.iinfo(np.int32).max\n",
    "data_format = 0\n",
    "tf.config.run_functions_eagerly(True)"
   ]
  },
  {
   "cell_type": "code",
   "execution_count": 3,
   "id": "55ab3f04-0966-4e89-adc9-495e0e41e230",
   "metadata": {},
   "outputs": [
    {
     "name": "stdout",
     "output_type": "stream",
     "text": [
      "Collecting scikit-learn\n",
      "  Downloading scikit_learn-1.3.2-cp39-cp39-win_amd64.whl.metadata (11 kB)\n",
      "Requirement already satisfied: numpy<2.0,>=1.17.3 in c:\\users\\dpapf\\anaconda3\\envs\\genfsad\\lib\\site-packages (from scikit-learn) (1.26.0)\n",
      "Requirement already satisfied: scipy>=1.5.0 in c:\\users\\dpapf\\anaconda3\\envs\\genfsad\\lib\\site-packages (from scikit-learn) (1.11.3)\n",
      "Collecting joblib>=1.1.1 (from scikit-learn)\n",
      "  Downloading joblib-1.3.2-py3-none-any.whl.metadata (5.4 kB)\n",
      "Collecting threadpoolctl>=2.0.0 (from scikit-learn)\n",
      "  Downloading threadpoolctl-3.2.0-py3-none-any.whl.metadata (10.0 kB)\n",
      "Downloading scikit_learn-1.3.2-cp39-cp39-win_amd64.whl (9.3 MB)\n",
      "   ---------------------------------------- 0.0/9.3 MB ? eta -:--:--\n",
      "   ---- ----------------------------------- 1.0/9.3 MB 21.4 MB/s eta 0:00:01\n",
      "   ---------- ----------------------------- 2.5/9.3 MB 26.3 MB/s eta 0:00:01\n",
      "   ---------------- ----------------------- 3.8/9.3 MB 26.7 MB/s eta 0:00:01\n",
      "   --------------------- ------------------ 4.9/9.3 MB 28.5 MB/s eta 0:00:01\n",
      "   --------------------------- ------------ 6.3/9.3 MB 28.8 MB/s eta 0:00:01\n",
      "   --------------------------------- ------ 7.8/9.3 MB 29.2 MB/s eta 0:00:01\n",
      "   -------------------------------------- - 9.0/9.3 MB 28.8 MB/s eta 0:00:01\n",
      "   ---------------------------------------- 9.3/9.3 MB 25.9 MB/s eta 0:00:00\n",
      "Downloading joblib-1.3.2-py3-none-any.whl (302 kB)\n",
      "   ---------------------------------------- 0.0/302.2 kB ? eta -:--:--\n",
      "   ---------------------------------------- 302.2/302.2 kB ? eta 0:00:00\n",
      "Downloading threadpoolctl-3.2.0-py3-none-any.whl (15 kB)\n",
      "Installing collected packages: threadpoolctl, joblib, scikit-learn\n",
      "Successfully installed joblib-1.3.2 scikit-learn-1.3.2 threadpoolctl-3.2.0\n"
     ]
    }
   ],
   "source": [
    "!pip install -U scikit-learn"
   ]
  },
  {
   "cell_type": "code",
   "execution_count": 5,
   "id": "8a548f0f-84b0-488d-947f-399da8c5ae8b",
   "metadata": {},
   "outputs": [],
   "source": [
    "def aucPerformance(mse, labels):\n",
    "    roc_auc = roc_auc_score(labels, mse)\n",
    "    ap = average_precision_score(labels, mse)\n",
    "    return roc_auc, ap\n",
    "    \n",
    "def dev_network_d(input_shape):\n",
    "    '''\n",
    "    deeper network architecture with three hidden layers\n",
    "    '''\n",
    "    x_input = Input(shape=input_shape)\n",
    "    intermediate = Dense(1000, activation='relu',\n",
    "                kernel_regularizer=regularizers.l2(0.01), name = 'hl1')(x_input)\n",
    "    intermediate = Dense(250, activation='relu',\n",
    "                kernel_regularizer=regularizers.l2(0.01), name = 'hl2')(intermediate)\n",
    "    intermediate = Dense(20, activation='relu',\n",
    "                kernel_regularizer=regularizers.l2(0.01), name = 'hl3')(intermediate)\n",
    "    intermediate = Dense(1, activation='linear', name = 'score')(intermediate)\n",
    "    return Model(x_input, intermediate)\n",
    "\n",
    "\n",
    "def dev_network_s(input_shape):\n",
    "    '''\n",
    "    network architecture with one hidden layer\n",
    "    '''\n",
    "    x_input = Input(shape=input_shape)\n",
    "    intermediate = Dense(20, activation='relu', \n",
    "                kernel_regularizer=regularizers.l2(0.01), name = 'hl1')(x_input)\n",
    "    intermediate = Dense(1, activation='linear',  name = 'score')(intermediate)    \n",
    "    return Model(x_input, intermediate)\n",
    "\n",
    "def dev_network_linear(input_shape):\n",
    "    '''\n",
    "    network architecture with no hidden layer, equivalent to linear mapping from\n",
    "    raw inputs to anomaly scores\n",
    "    '''    \n",
    "    x_input = Input(shape=input_shape)\n",
    "    intermediate = Dense(1, activation='linear',  name = 'score')(x_input)\n",
    "    return Model(x_input, intermediate)"
   ]
  },
  {
   "cell_type": "code",
   "execution_count": null,
   "id": "3c1039e7-491c-40d3-9283-3a1e0ae58522",
   "metadata": {},
   "outputs": [],
   "source": []
  }
 ],
 "metadata": {
  "kernelspec": {
   "display_name": "Python 3 (ipykernel)",
   "language": "python",
   "name": "python3"
  },
  "language_info": {
   "codemirror_mode": {
    "name": "ipython",
    "version": 3
   },
   "file_extension": ".py",
   "mimetype": "text/x-python",
   "name": "python",
   "nbconvert_exporter": "python",
   "pygments_lexer": "ipython3",
   "version": "3.9.18"
  }
 },
 "nbformat": 4,
 "nbformat_minor": 5
}
